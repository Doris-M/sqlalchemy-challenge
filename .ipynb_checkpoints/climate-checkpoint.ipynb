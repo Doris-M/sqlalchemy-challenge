{
 "cells": [
  {
   "cell_type": "code",
   "execution_count": 284,
   "metadata": {},
   "outputs": [],
   "source": [
    "%matplotlib inline\n",
    "from matplotlib import style\n",
    "style.use('fivethirtyeight')\n",
    "import matplotlib.pyplot as plt"
   ]
  },
  {
   "cell_type": "code",
   "execution_count": 285,
   "metadata": {},
   "outputs": [],
   "source": [
    "import numpy as np\n",
    "import pandas as pd"
   ]
  },
  {
   "cell_type": "code",
   "execution_count": 309,
   "metadata": {},
   "outputs": [],
   "source": [
    "import datetime as dt\n",
    "from datetime import timedelta"
   ]
  },
  {
   "cell_type": "markdown",
   "metadata": {},
   "source": [
    "# Reflect Tables into SQLAlchemy ORM"
   ]
  },
  {
   "cell_type": "code",
   "execution_count": 287,
   "metadata": {},
   "outputs": [],
   "source": [
    "# Python SQL toolkit and Object Relational Mapper\n",
    "import sqlalchemy\n",
    "from sqlalchemy.ext.automap import automap_base\n",
    "from sqlalchemy.orm import Session\n",
    "from sqlalchemy import create_engine,inspect, func\n",
    "\n",
    "from sqlalchemy import Table, Column, Integer, String, MetaData, ForeignKey"
   ]
  },
  {
   "cell_type": "code",
   "execution_count": 288,
   "metadata": {},
   "outputs": [],
   "source": [
    "engine = create_engine(\"sqlite:///Resources/hawaii.sqlite\", echo=False)"
   ]
  },
  {
   "cell_type": "code",
   "execution_count": 289,
   "metadata": {},
   "outputs": [],
   "source": [
    "# reflect an existing database into a new model\n",
    "Base = automap_base()\n",
    "\n",
    "# reflect the tables\n",
    "Base.prepare(engine, reflect=True)\n"
   ]
  },
  {
   "cell_type": "code",
   "execution_count": 290,
   "metadata": {},
   "outputs": [
    {
     "data": {
      "text/plain": [
       "['measurement', 'station']"
      ]
     },
     "execution_count": 290,
     "metadata": {},
     "output_type": "execute_result"
    }
   ],
   "source": [
    "# We can view all of the classes that automap found\n",
    "Base.classes.keys()\n"
   ]
  },
  {
   "cell_type": "code",
   "execution_count": 291,
   "metadata": {},
   "outputs": [],
   "source": [
    "# Save references to each table\n",
    "Measurement = Base.classes.measurement\n",
    "Station     = Base.classes.station"
   ]
  },
  {
   "cell_type": "code",
   "execution_count": 292,
   "metadata": {},
   "outputs": [
    {
     "name": "stdout",
     "output_type": "stream",
     "text": [
      "id INTEGER\n",
      "station TEXT\n",
      "date TEXT\n",
      "prcp FLOAT\n",
      "tobs FLOAT\n"
     ]
    }
   ],
   "source": [
    "# get the columns of Measurement\n",
    "inspector = inspect(engine)\n",
    "columns = inspector.get_columns('Measurement')\n",
    "for c in columns:\n",
    "    print(c['name'], c[\"type\"])\n"
   ]
  },
  {
   "cell_type": "code",
   "execution_count": 293,
   "metadata": {},
   "outputs": [
    {
     "name": "stdout",
     "output_type": "stream",
     "text": [
      "id INTEGER\n",
      "station TEXT\n",
      "name TEXT\n",
      "latitude FLOAT\n",
      "longitude FLOAT\n",
      "elevation FLOAT\n"
     ]
    }
   ],
   "source": [
    "# get the columns of Station\n",
    "columns = inspector.get_columns('Station')\n",
    "for c in columns:\n",
    "    print(c['name'], c[\"type\"])"
   ]
  },
  {
   "cell_type": "code",
   "execution_count": 294,
   "metadata": {},
   "outputs": [],
   "source": [
    "# Create our session (link) from Python to the DB\n",
    "session = Session(engine)\n"
   ]
  },
  {
   "cell_type": "markdown",
   "metadata": {},
   "source": [
    "# Exploratory Climate Analysis"
   ]
  },
  {
   "cell_type": "code",
   "execution_count": 380,
   "metadata": {},
   "outputs": [
    {
     "name": "stdout",
     "output_type": "stream",
     "text": [
      "2016-08-23 0.0\n",
      "2016-08-24 0.08\n",
      "2016-08-25 0.08\n",
      "2016-08-26 0.0\n",
      "2016-08-27 0.0\n",
      "2016-08-28 0.01\n",
      "2016-08-29 0.0\n",
      "2016-08-30 0.0\n",
      "2016-08-31 0.13\n",
      "2016-09-01 0.0\n",
      "2016-09-02 0.0\n",
      "2016-09-03 0.0\n",
      "2016-09-04 0.03\n",
      "2016-09-05 None\n",
      "2016-09-06 None\n",
      "2016-09-07 0.05\n",
      "2016-09-08 0.0\n",
      "2016-09-09 0.03\n",
      "2016-09-10 0.0\n",
      "2016-09-11 0.05\n",
      "2016-09-12 0.0\n",
      "2016-09-13 0.02\n",
      "2016-09-14 1.32\n",
      "2016-09-15 0.42\n",
      "2016-09-16 0.06\n",
      "2016-09-17 0.05\n",
      "2016-09-18 0.0\n",
      "2016-09-19 0.0\n",
      "2016-09-20 0.0\n",
      "2016-09-21 0.0\n",
      "2016-09-22 0.02\n",
      "2016-09-23 0.0\n",
      "2016-09-24 0.0\n",
      "2016-09-25 0.0\n",
      "2016-09-26 0.06\n",
      "2016-09-27 0.02\n",
      "2016-09-28 0.0\n",
      "2016-09-29 0.0\n",
      "2016-09-30 0.0\n",
      "2016-10-01 0.0\n",
      "2016-10-02 0.0\n",
      "2016-10-03 0.0\n",
      "2016-10-04 0.0\n",
      "2016-10-05 0.0\n",
      "2016-10-06 0.0\n",
      "2016-10-07 0.0\n",
      "2016-10-08 0.0\n",
      "2016-10-09 0.0\n",
      "2016-10-10 0.0\n",
      "2016-10-11 0.0\n",
      "2016-10-12 0.0\n",
      "2016-10-13 0.0\n",
      "2016-10-14 0.0\n",
      "2016-10-15 0.0\n",
      "2016-10-16 0.0\n",
      "2016-10-17 0.01\n",
      "2016-10-18 0.0\n",
      "2016-10-19 0.0\n",
      "2016-10-20 0.0\n",
      "2016-10-21 0.05\n",
      "2016-10-22 0.15\n",
      "2016-10-23 0.01\n",
      "2016-10-24 0.0\n",
      "2016-10-25 0.03\n",
      "2016-10-26 0.0\n",
      "2016-10-27 0.0\n",
      "2016-10-28 0.0\n",
      "2016-10-29 0.0\n",
      "2016-10-30 0.24\n",
      "2016-10-31 0.03\n",
      "2016-11-01 0.0\n",
      "2016-11-02 0.0\n",
      "2016-11-03 0.0\n",
      "2016-11-04 0.0\n",
      "2016-11-05 0.0\n",
      "2016-11-06 0.0\n",
      "2016-11-07 0.0\n",
      "2016-11-08 0.07\n",
      "2016-11-09 0.0\n",
      "2016-11-10 0.0\n",
      "2016-11-11 0.0\n",
      "2016-11-12 0.0\n",
      "2016-11-13 0.0\n",
      "2016-11-14 0.0\n",
      "2016-11-15 0.0\n",
      "2016-11-16 0.0\n",
      "2016-11-17 0.0\n",
      "2016-11-18 0.0\n",
      "2016-11-19 0.03\n",
      "2016-11-20 0.05\n",
      "2016-11-21 0.01\n",
      "2016-11-22 0.13\n",
      "2016-11-23 0.14\n",
      "2016-11-24 0.05\n",
      "2016-11-25 0.05\n",
      "2016-11-26 0.05\n",
      "2016-11-27 0.0\n",
      "2016-11-28 0.01\n",
      "2016-11-29 0.0\n",
      "2016-11-30 0.14\n",
      "2016-12-01 0.12\n",
      "2016-12-02 0.03\n",
      "2016-12-03 0.0\n",
      "2016-12-04 0.03\n",
      "2016-12-05 0.43\n",
      "2016-12-06 0.02\n",
      "2016-12-07 0.0\n",
      "2016-12-08 0.03\n",
      "2016-12-09 0.52\n",
      "2016-12-10 0.05\n",
      "2016-12-11 0.04\n",
      "2016-12-12 0.01\n",
      "2016-12-13 0.05\n",
      "2016-12-14 0.03\n",
      "2016-12-15 0.0\n",
      "2016-12-16 0.0\n",
      "2016-12-17 0.01\n",
      "2016-12-18 0.13\n",
      "2016-12-19 0.01\n",
      "2016-12-20 0.0\n",
      "2016-12-21 0.0\n",
      "2016-12-22 0.01\n",
      "2016-12-23 0.01\n",
      "2016-12-24 0.01\n",
      "2016-12-25 0.0\n",
      "2016-12-26 0.02\n",
      "2016-12-27 0.0\n",
      "2016-12-28 0.02\n",
      "2016-12-29 0.04\n",
      "2016-12-30 0.12\n",
      "2016-12-31 0.01\n",
      "2017-01-01 0.0\n",
      "2017-01-02 0.0\n",
      "2017-01-03 0.0\n",
      "2017-01-04 0.0\n",
      "2017-01-05 0.0\n",
      "2017-01-06 0.0\n",
      "2017-01-07 0.0\n",
      "2017-01-08 0.0\n",
      "2017-01-09 0.0\n",
      "2017-01-10 0.0\n",
      "2017-01-11 0.0\n",
      "2017-01-12 0.0\n",
      "2017-01-13 0.0\n",
      "2017-01-14 0.0\n",
      "2017-01-15 0.0\n",
      "2017-01-16 0.0\n",
      "2017-01-17 0.0\n",
      "2017-01-18 0.0\n",
      "2017-01-19 0.0\n",
      "2017-01-20 0.0\n",
      "2017-01-21 0.0\n",
      "2017-01-22 0.16\n",
      "2017-01-23 0.0\n",
      "2017-01-24 0.04\n",
      "2017-01-25 0.03\n",
      "2017-01-26 0.0\n",
      "2017-01-27 0.0\n",
      "2017-01-28 0.0\n",
      "2017-01-29 0.18\n",
      "2017-01-30 0.0\n",
      "2017-01-31 0.0\n",
      "2017-02-01 0.0\n",
      "2017-02-02 0.0\n",
      "2017-02-03 0.0\n",
      "2017-02-04 0.0\n",
      "2017-02-05 0.0\n",
      "2017-02-06 0.0\n",
      "2017-02-07 0.51\n",
      "2017-02-08 0.0\n",
      "2017-02-09 0.0\n",
      "2017-02-10 0.0\n",
      "2017-02-11 0.31\n",
      "2017-02-12 2.62\n",
      "2017-02-13 0.01\n",
      "2017-02-14 0.0\n",
      "2017-02-15 0.0\n",
      "2017-02-16 0.07\n",
      "2017-02-17 0.0\n",
      "2017-02-18 0.0\n",
      "2017-02-19 0.0\n",
      "2017-02-20 0.0\n",
      "2017-02-21 0.06\n",
      "2017-02-22 0.06\n",
      "2017-02-23 0.01\n",
      "2017-02-24 0.0\n",
      "2017-02-25 0.03\n",
      "2017-02-26 0.0\n",
      "2017-02-27 0.0\n",
      "2017-02-28 0.0\n",
      "2017-03-01 1.19\n",
      "2017-03-02 0.73\n",
      "2017-03-03 0.47\n",
      "2017-03-04 0.0\n",
      "2017-03-05 0.35\n",
      "2017-03-06 0.0\n",
      "2017-03-07 0.0\n",
      "2017-03-08 0.0\n",
      "2017-03-09 0.0\n",
      "2017-03-10 0.0\n",
      "2017-03-11 0.0\n",
      "2017-03-12 0.0\n",
      "2017-03-13 0.0\n",
      "2017-03-14 0.0\n",
      "2017-03-15 0.0\n",
      "2017-03-16 0.0\n",
      "2017-03-17 0.0\n",
      "2017-03-18 0.0\n",
      "2017-03-19 0.0\n",
      "2017-03-20 0.0\n",
      "2017-03-21 0.0\n",
      "2017-03-22 0.0\n",
      "2017-03-23 0.0\n",
      "2017-03-24 0.02\n",
      "2017-03-25 0.0\n",
      "2017-03-26 0.0\n",
      "2017-03-27 0.0\n",
      "2017-03-28 0.0\n",
      "2017-03-29 0.0\n",
      "2017-03-30 0.0\n",
      "2017-03-31 0.0\n",
      "2017-04-01 0.0\n",
      "2017-04-02 0.0\n",
      "2017-04-03 0.0\n",
      "2017-04-04 0.0\n",
      "2017-04-05 0.0\n",
      "2017-04-06 0.0\n",
      "2017-04-07 0.0\n",
      "2017-04-08 0.0\n",
      "2017-04-09 0.0\n",
      "2017-04-10 0.0\n",
      "2017-04-11 0.0\n",
      "2017-04-12 0.0\n",
      "2017-04-13 0.0\n",
      "2017-04-14 0.26\n",
      "2017-04-15 0.01\n",
      "2017-04-16 0.0\n",
      "2017-04-17 0.02\n",
      "2017-04-18 0.0\n",
      "2017-04-19 0.02\n",
      "2017-04-20 0.05\n",
      "2017-04-21 0.23\n",
      "2017-04-22 0.32\n",
      "2017-04-23 0.03\n",
      "2017-04-24 0.0\n",
      "2017-04-25 0.0\n",
      "2017-04-26 0.0\n",
      "2017-04-27 0.0\n",
      "2017-04-28 0.0\n",
      "2017-04-29 0.12\n",
      "2017-04-30 0.89\n",
      "2017-05-01 0.26\n",
      "2017-05-02 0.0\n",
      "2017-05-03 0.0\n",
      "2017-05-04 0.0\n",
      "2017-05-05 0.0\n",
      "2017-05-06 0.0\n",
      "2017-05-07 0.0\n",
      "2017-05-08 0.0\n",
      "2017-05-09 1.62\n",
      "2017-05-10 0.0\n",
      "2017-05-11 0.01\n",
      "2017-05-12 0.0\n",
      "2017-05-13 0.0\n",
      "2017-05-14 0.0\n",
      "2017-05-15 0.05\n",
      "2017-05-16 0.01\n",
      "2017-05-17 0.0\n",
      "2017-05-18 0.01\n",
      "2017-05-19 0.0\n",
      "2017-05-20 0.0\n",
      "2017-05-21 0.0\n",
      "2017-05-22 0.0\n",
      "2017-05-23 0.08\n",
      "2017-05-24 0.13\n",
      "2017-05-25 0.15\n",
      "2017-05-26 0.02\n",
      "2017-05-27 0.01\n",
      "2017-05-28 0.02\n",
      "2017-05-29 0.0\n",
      "2017-05-30 0.26\n",
      "2017-05-31 0.02\n",
      "2017-06-01 0.0\n",
      "2017-06-02 0.0\n",
      "2017-06-03 0.02\n",
      "2017-06-04 0.0\n",
      "2017-06-05 0.0\n",
      "2017-06-06 0.0\n",
      "2017-06-07 0.0\n",
      "2017-06-08 0.0\n",
      "2017-06-09 0.0\n",
      "2017-06-10 0.04\n",
      "2017-06-11 0.08\n",
      "2017-06-12 0.02\n",
      "2017-06-13 0.0\n",
      "2017-06-14 0.0\n",
      "2017-06-15 0.0\n",
      "2017-06-16 0.0\n",
      "2017-06-17 0.0\n",
      "2017-06-18 0.05\n",
      "2017-06-19 0.0\n",
      "2017-06-20 0.02\n",
      "2017-06-21 0.0\n",
      "2017-06-22 0.0\n",
      "2017-06-23 0.0\n",
      "2017-06-24 0.06\n",
      "2017-06-25 0.0\n",
      "2017-06-26 0.0\n",
      "2017-06-27 0.0\n",
      "2017-06-28 0.0\n",
      "2017-06-29 0.0\n",
      "2017-06-30 0.08\n",
      "2017-07-01 0.02\n",
      "2017-07-02 0.02\n",
      "2017-07-03 0.04\n",
      "2017-07-04 0.04\n",
      "2017-07-05 0.0\n",
      "2017-07-06 0.0\n",
      "2017-07-07 0.0\n",
      "2017-07-08 0.0\n",
      "2017-07-09 0.0\n",
      "2017-07-10 0.0\n",
      "2017-07-11 0.0\n",
      "2017-07-12 0.0\n",
      "2017-07-13 0.07\n",
      "2017-07-14 0.02\n",
      "2017-07-15 0.0\n",
      "2017-07-16 0.02\n",
      "2017-07-17 0.03\n",
      "2017-07-18 0.05\n",
      "2017-07-19 0.0\n",
      "2017-07-20 0.03\n",
      "2017-07-21 0.0\n",
      "2017-07-22 0.03\n",
      "2017-07-23 0.0\n",
      "2017-07-24 0.05\n",
      "2017-07-25 0.0\n",
      "2017-07-26 0.0\n",
      "2017-07-27 0.0\n",
      "2017-07-28 0.0\n",
      "2017-07-29 0.0\n",
      "2017-07-30 0.0\n",
      "2017-07-31 0.0\n",
      "2017-08-01 0.02\n",
      "2017-08-02 0.0\n",
      "2017-08-03 0.0\n",
      "2017-08-04 0.02\n",
      "2017-08-05 0.0\n",
      "2017-08-06 0.0\n",
      "2017-08-07 0.0\n",
      "2017-08-08 0.0\n",
      "2017-08-09 0.0\n",
      "2017-08-10 0.0\n",
      "2017-08-11 0.0\n",
      "2017-08-12 0.0\n",
      "2017-08-13 0.0\n",
      "2017-08-14 0.0\n",
      "2017-08-15 0.02\n",
      "2017-08-16 0.0\n",
      "2017-08-17 0.0\n",
      "2017-08-18 0.0\n",
      "2017-08-19 0.0\n",
      "2017-08-20 0.0\n",
      "2017-08-21 0.0\n",
      "2017-08-22 0.0\n",
      "2017-08-23 0.0\n"
     ]
    }
   ],
   "source": [
    "# Design a query to retrieve the last 12 months of precipitation data and plot the results\n",
    "# Calculate the date 1 year ago from the last data point in the database \n",
    "# Perform a query to retrieve the data and precipitation scores \n",
    "\n",
    "prcp_last_twelve = engine.execute(\"Select prcp as prcp, date from Measurement where date >=\"\n",
    "                                          \"(Select strftime('%Y-%m-%d',max(m.date),'-12 month') from Measurement m)\"\n",
    "                                  \"group by date order by date\"\n",
    "                                 ).fetchall()\n",
    "\n",
    "for prcp in prcp_last_twelve:\n",
    "    print (prcp.date,prcp.prcp)\n",
    "    \n"
   ]
  },
  {
   "cell_type": "code",
   "execution_count": 376,
   "metadata": {},
   "outputs": [],
   "source": [
    "# Save the query results as a Pandas DataFrame and set the index to the date column\n",
    "df = pd.DataFrame(prcp_last_twelve, columns=['prcp', 'date'])\n",
    "df.set_index('date', inplace=True, )\n",
    "\n",
    "\n",
    "# Sort the dataframe by date\n",
    "\n",
    "# Use Pandas Plotting with Matplotlib to plot the data\n"
   ]
  },
  {
   "cell_type": "code",
   "execution_count": 383,
   "metadata": {},
   "outputs": [
    {
     "data": {
      "image/png": "[encoded data removed]",
      "text/plain": [
       "<Figure size 720x360 with 1 Axes>"
      ]
     },
     "metadata": {},
     "output_type": "display_data"
    }
   ],
   "source": [
    "df.plot(title=\"Precipitation Analysis\", figsize=(10,5))\n",
    "plt.tight_layout()\n",
    "plt.ylim=(0,4)\n",
    "plt.xticks(rotation = 90,horizontalalignment=\"center\",fontsize='small')\n",
    "\n",
    "plt.show()"
   ]
  },
  {
   "cell_type": "code",
   "execution_count": 304,
   "metadata": {},
   "outputs": [],
   "source": [
    "# Use Pandas to calcualte the summary statistics for the precipitation data"
   ]
  },
  {
   "cell_type": "code",
   "execution_count": null,
   "metadata": {},
   "outputs": [],
   "source": [
    "# Design a query to show how many stations are available in this dataset?\n"
   ]
  },
  {
   "cell_type": "code",
   "execution_count": null,
   "metadata": {},
   "outputs": [],
   "source": [
    "# What are the most active stations? (i.e. what stations have the most rows)?\n",
    "# List the stations and the counts in descending order.\n"
   ]
  },
  {
   "cell_type": "code",
   "execution_count": null,
   "metadata": {},
   "outputs": [],
   "source": [
    "# Using the station id from the previous query, calculate the lowest temperature recorded, \n",
    "# highest temperature recorded, and average temperature of the most active station?\n"
   ]
  },
  {
   "cell_type": "code",
   "execution_count": null,
   "metadata": {},
   "outputs": [],
   "source": [
    "# Choose the station with the highest number of temperature observations.\n",
    "# Query the last 12 months of temperature observation data for this station and plot the results as a histogram\n"
   ]
  },
  {
   "cell_type": "markdown",
   "metadata": {},
   "source": [
    "## Bonus Challenge Assignment"
   ]
  },
  {
   "cell_type": "code",
   "execution_count": null,
   "metadata": {},
   "outputs": [],
   "source": [
    "# This function called `calc_temps` will accept start date and end date in the format '%Y-%m-%d' \n",
    "# and return the minimum, average, and maximum temperatures for that range of dates\n",
    "def calc_temps(start_date, end_date):\n",
    "    \"\"\"TMIN, TAVG, and TMAX for a list of dates.\n",
    "    \n",
    "    Args:\n",
    "        start_date (string): A date string in the format %Y-%m-%d\n",
    "        end_date (string): A date string in the format %Y-%m-%d\n",
    "        \n",
    "    Returns:\n",
    "        TMIN, TAVE, and TMAX\n",
    "    \"\"\"\n",
    "    \n",
    "    return session.query(func.min(Measurement.tobs), func.avg(Measurement.tobs), func.max(Measurement.tobs)).\\\n",
    "        filter(Measurement.date >= start_date).filter(Measurement.date <= end_date).all()\n",
    "\n",
    "# function usage example\n",
    "print(calc_temps('2012-02-28', '2012-03-05'))"
   ]
  },
  {
   "cell_type": "code",
   "execution_count": null,
   "metadata": {},
   "outputs": [],
   "source": [
    "# Use your previous function `calc_temps` to calculate the tmin, tavg, and tmax \n",
    "# for your trip using the previous year's data for those same dates.\n"
   ]
  },
  {
   "cell_type": "code",
   "execution_count": null,
   "metadata": {},
   "outputs": [],
   "source": [
    "# Plot the results from your previous query as a bar chart. \n",
    "# Use \"Trip Avg Temp\" as your Title\n",
    "# Use the average temperature for the y value\n",
    "# Use the peak-to-peak (tmax-tmin) value as the y error bar (yerr)\n"
   ]
  },
  {
   "cell_type": "code",
   "execution_count": null,
   "metadata": {},
   "outputs": [],
   "source": [
    "# Calculate the total amount of rainfall per weather station for your trip dates using the previous year's matching dates.\n",
    "# Sort this in descending order by precipitation amount and list the station, name, latitude, longitude, and elevation\n",
    "\n"
   ]
  },
  {
   "cell_type": "code",
   "execution_count": null,
   "metadata": {},
   "outputs": [],
   "source": [
    "# Create a query that will calculate the daily normals \n",
    "# (i.e. the averages for tmin, tmax, and tavg for all historic data matching a specific month and day)\n",
    "\n",
    "def daily_normals(date):\n",
    "    \"\"\"Daily Normals.\n",
    "    \n",
    "    Args:\n",
    "        date (str): A date string in the format '%m-%d'\n",
    "        \n",
    "    Returns:\n",
    "        A list of tuples containing the daily normals, tmin, tavg, and tmax\n",
    "    \n",
    "    \"\"\"\n",
    "    \n",
    "    sel = [func.min(Measurement.tobs), func.avg(Measurement.tobs), func.max(Measurement.tobs)]\n",
    "    return session.query(*sel).filter(func.strftime(\"%m-%d\", Measurement.date) == date).all()\n",
    "    \n",
    "daily_normals(\"01-01\")"
   ]
  },
  {
   "cell_type": "code",
   "execution_count": null,
   "metadata": {},
   "outputs": [],
   "source": [
    "# calculate the daily normals for your trip\n",
    "# push each tuple of calculations into a list called `normals`\n",
    "\n",
    "# Set the start and end date of the trip\n",
    "\n",
    "# Use the start and end date to create a range of dates\n",
    "\n",
    "# Stip off the year and save a list of %m-%d strings\n",
    "\n",
    "# Loop through the list of %m-%d strings and calculate the normals for each date\n"
   ]
  },
  {
   "cell_type": "code",
   "execution_count": null,
   "metadata": {},
   "outputs": [],
   "source": [
    "# Load the previous query results into a Pandas DataFrame and add the `trip_dates` range as the `date` index\n"
   ]
  },
  {
   "cell_type": "code",
   "execution_count": null,
   "metadata": {},
   "outputs": [],
   "source": [
    "# Plot the daily normals as an area plot with `stacked=False`\n"
   ]
  }
 ],
 "metadata": {
  "kernel_info": {
   "name": "python3"
  },
  "kernelspec": {
   "display_name": "Python 3",
   "language": "python",
   "name": "python3"
  },
  "language_info": {
   "codemirror_mode": {
    "name": "ipython",
    "version": 3
   },
   "file_extension": ".py",
   "mimetype": "text/x-python",
   "name": "python",
   "nbconvert_exporter": "python",
   "pygments_lexer": "ipython3",
   "version": "3.8.3"
  },
  "nteract": {
   "version": "0.12.3"
  },
  "varInspector": {
   "cols": {
    "lenName": 16,
    "lenType": 16,
    "lenVar": 40
   },
   "kernels_config": {
    "python": {
     "delete_cmd_postfix": "",
     "delete_cmd_prefix": "del ",
     "library": "var_list.py",
     "varRefreshCmd": "print(var_dic_list())"
    },
    "r": {
     "delete_cmd_postfix": ") ",
     "delete_cmd_prefix": "rm(",
     "library": "var_list.r",
     "varRefreshCmd": "cat(var_dic_list()) "
    }
   },
   "types_to_exclude": [
    "module",
    "function",
    "builtin_function_or_method",
    "instance",
    "_Feature"
   ],
   "window_display": false
  }
 },
 "nbformat": 4,
 "nbformat_minor": 2
}
